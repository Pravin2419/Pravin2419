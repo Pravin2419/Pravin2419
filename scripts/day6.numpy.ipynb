{
 "cells": [
  {
   "cell_type": "markdown",
   "id": "79e53d72",
   "metadata": {},
   "source": [
    "# numpy\n"
   ]
  },
  {
   "cell_type": "code",
   "execution_count": 1,
   "id": "766ed369",
   "metadata": {},
   "outputs": [],
   "source": [
    "import numpy as np"
   ]
  },
  {
   "cell_type": "code",
   "execution_count": 4,
   "id": "4ee9268c",
   "metadata": {},
   "outputs": [],
   "source": [
    "list1=[1,2,3,4]"
   ]
  },
  {
   "cell_type": "code",
   "execution_count": 16,
   "id": "3ac9c211",
   "metadata": {},
   "outputs": [],
   "source": [
    "n1=np.array(list1)\n"
   ]
  },
  {
   "cell_type": "code",
   "execution_count": 17,
   "id": "b907a400",
   "metadata": {},
   "outputs": [
    {
     "data": {
      "text/plain": [
       "array([1, 2, 3, 4])"
      ]
     },
     "execution_count": 17,
     "metadata": {},
     "output_type": "execute_result"
    }
   ],
   "source": [
    "n1"
   ]
  },
  {
   "cell_type": "code",
   "execution_count": 18,
   "id": "1d7b2e21",
   "metadata": {},
   "outputs": [
    {
     "data": {
      "text/plain": [
       "numpy.ndarray"
      ]
     },
     "execution_count": 18,
     "metadata": {},
     "output_type": "execute_result"
    }
   ],
   "source": [
    "type (n1)"
   ]
  },
  {
   "cell_type": "code",
   "execution_count": 23,
   "id": "f41aa6fa",
   "metadata": {},
   "outputs": [],
   "source": [
    "n2=np.array([[1,2,3],[4,5,6]])"
   ]
  },
  {
   "cell_type": "code",
   "execution_count": 24,
   "id": "5bf2eea9",
   "metadata": {},
   "outputs": [
    {
     "data": {
      "text/plain": [
       "array([[1, 2, 3],\n",
       "       [4, 5, 6]])"
      ]
     },
     "execution_count": 24,
     "metadata": {},
     "output_type": "execute_result"
    }
   ],
   "source": [
    "n2"
   ]
  },
  {
   "cell_type": "code",
   "execution_count": 25,
   "id": "92dd4578",
   "metadata": {},
   "outputs": [
    {
     "data": {
      "text/plain": [
       "numpy.ndarray"
      ]
     },
     "execution_count": 25,
     "metadata": {},
     "output_type": "execute_result"
    }
   ],
   "source": [
    "type(n2)"
   ]
  },
  {
   "cell_type": "code",
   "execution_count": null,
   "id": "bf26ad9a",
   "metadata": {},
   "outputs": [],
   "source": [
    "# iniatially of numpay\n"
   ]
  },
  {
   "cell_type": "code",
   "execution_count": 31,
   "id": "fc917669",
   "metadata": {},
   "outputs": [],
   "source": [
    "n3=np.zeros((0,0))"
   ]
  },
  {
   "cell_type": "code",
   "execution_count": 32,
   "id": "9c58b802",
   "metadata": {},
   "outputs": [
    {
     "data": {
      "text/plain": [
       "array([[0., 0., 0.],\n",
       "       [0., 0., 0.]])"
      ]
     },
     "execution_count": 32,
     "metadata": {},
     "output_type": "execute_result"
    }
   ],
   "source": [
    "n3"
   ]
  },
  {
   "cell_type": "code",
   "execution_count": 33,
   "id": "a140a7a2",
   "metadata": {},
   "outputs": [],
   "source": [
    "n3=np.zeros((2,3))"
   ]
  },
  {
   "cell_type": "code",
   "execution_count": 34,
   "id": "73dfdabe",
   "metadata": {},
   "outputs": [
    {
     "data": {
      "text/plain": [
       "array([[0., 0., 0.],\n",
       "       [0., 0., 0.]])"
      ]
     },
     "execution_count": 34,
     "metadata": {},
     "output_type": "execute_result"
    }
   ],
   "source": [
    "n3"
   ]
  },
  {
   "cell_type": "code",
   "execution_count": 39,
   "id": "079e9b3f",
   "metadata": {},
   "outputs": [],
   "source": [
    "n3=np.zeros((10,10))"
   ]
  },
  {
   "cell_type": "code",
   "execution_count": 40,
   "id": "bd1858c0",
   "metadata": {},
   "outputs": [
    {
     "data": {
      "text/plain": [
       "array([[0., 0., 0., 0., 0., 0., 0., 0., 0., 0.],\n",
       "       [0., 0., 0., 0., 0., 0., 0., 0., 0., 0.],\n",
       "       [0., 0., 0., 0., 0., 0., 0., 0., 0., 0.],\n",
       "       [0., 0., 0., 0., 0., 0., 0., 0., 0., 0.],\n",
       "       [0., 0., 0., 0., 0., 0., 0., 0., 0., 0.],\n",
       "       [0., 0., 0., 0., 0., 0., 0., 0., 0., 0.],\n",
       "       [0., 0., 0., 0., 0., 0., 0., 0., 0., 0.],\n",
       "       [0., 0., 0., 0., 0., 0., 0., 0., 0., 0.],\n",
       "       [0., 0., 0., 0., 0., 0., 0., 0., 0., 0.],\n",
       "       [0., 0., 0., 0., 0., 0., 0., 0., 0., 0.]])"
      ]
     },
     "execution_count": 40,
     "metadata": {},
     "output_type": "execute_result"
    }
   ],
   "source": [
    "n3"
   ]
  },
  {
   "cell_type": "code",
   "execution_count": 42,
   "id": "23bf448d",
   "metadata": {},
   "outputs": [],
   "source": [
    "#numpy as specific number"
   ]
  },
  {
   "cell_type": "code",
   "execution_count": 43,
   "id": "cb1b9a25",
   "metadata": {},
   "outputs": [],
   "source": [
    "n3=np.full((3,3),55)"
   ]
  },
  {
   "cell_type": "code",
   "execution_count": 44,
   "id": "7692d822",
   "metadata": {},
   "outputs": [
    {
     "data": {
      "text/plain": [
       "array([[55, 55, 55],\n",
       "       [55, 55, 55],\n",
       "       [55, 55, 55]])"
      ]
     },
     "execution_count": 44,
     "metadata": {},
     "output_type": "execute_result"
    }
   ],
   "source": [
    "n3"
   ]
  },
  {
   "cell_type": "code",
   "execution_count": null,
   "id": "f8ebf41e",
   "metadata": {},
   "outputs": [],
   "source": [
    "#numpy as range"
   ]
  },
  {
   "cell_type": "code",
   "execution_count": 45,
   "id": "46433ef1",
   "metadata": {},
   "outputs": [],
   "source": [
    "n4=np.arange(50,100)"
   ]
  },
  {
   "cell_type": "code",
   "execution_count": 46,
   "id": "8546b4de",
   "metadata": {},
   "outputs": [
    {
     "data": {
      "text/plain": [
       "array([50, 51, 52, 53, 54, 55, 56, 57, 58, 59, 60, 61, 62, 63, 64, 65, 66,\n",
       "       67, 68, 69, 70, 71, 72, 73, 74, 75, 76, 77, 78, 79, 80, 81, 82, 83,\n",
       "       84, 85, 86, 87, 88, 89, 90, 91, 92, 93, 94, 95, 96, 97, 98, 99])"
      ]
     },
     "execution_count": 46,
     "metadata": {},
     "output_type": "execute_result"
    }
   ],
   "source": [
    "n4"
   ]
  },
  {
   "cell_type": "code",
   "execution_count": 48,
   "id": "d5ccba5c",
   "metadata": {},
   "outputs": [],
   "source": [
    "n4=np.arange(50,100,2)"
   ]
  },
  {
   "cell_type": "code",
   "execution_count": 49,
   "id": "d8882fd7",
   "metadata": {},
   "outputs": [
    {
     "data": {
      "text/plain": [
       "array([50, 52, 54, 56, 58, 60, 62, 64, 66, 68, 70, 72, 74, 76, 78, 80, 82,\n",
       "       84, 86, 88, 90, 92, 94, 96, 98])"
      ]
     },
     "execution_count": 49,
     "metadata": {},
     "output_type": "execute_result"
    }
   ],
   "source": [
    "n4"
   ]
  },
  {
   "cell_type": "code",
   "execution_count": null,
   "id": "3ea04102",
   "metadata": {},
   "outputs": [],
   "source": [
    "#nitially as random\n"
   ]
  },
  {
   "cell_type": "code",
   "execution_count": 50,
   "id": "d581a0c4",
   "metadata": {},
   "outputs": [],
   "source": [
    "n5=np.random.randint(1,100,6)"
   ]
  },
  {
   "cell_type": "code",
   "execution_count": 51,
   "id": "acede8e9",
   "metadata": {},
   "outputs": [
    {
     "data": {
      "text/plain": [
       "array([86, 88, 29, 28, 51, 59])"
      ]
     },
     "execution_count": 51,
     "metadata": {},
     "output_type": "execute_result"
    }
   ],
   "source": [
    "n5"
   ]
  },
  {
   "cell_type": "code",
   "execution_count": null,
   "id": "8d1a0cd8",
   "metadata": {},
   "outputs": [],
   "source": [
    "#initially as shape "
   ]
  },
  {
   "cell_type": "code",
   "execution_count": 64,
   "id": "d6454d46",
   "metadata": {},
   "outputs": [],
   "source": [
    "n6=np.array([[1,2,30],[52,20,14]])\n"
   ]
  },
  {
   "cell_type": "code",
   "execution_count": 65,
   "id": "07303ec6",
   "metadata": {},
   "outputs": [
    {
     "data": {
      "text/plain": [
       "array([[ 1,  2, 30],\n",
       "       [52, 20, 14]])"
      ]
     },
     "execution_count": 65,
     "metadata": {},
     "output_type": "execute_result"
    }
   ],
   "source": [
    "n6"
   ]
  },
  {
   "cell_type": "code",
   "execution_count": 71,
   "id": "abfcde70",
   "metadata": {},
   "outputs": [],
   "source": [
    "n6.shape=(3,2)\n"
   ]
  },
  {
   "cell_type": "code",
   "execution_count": 72,
   "id": "2c3ca05c",
   "metadata": {},
   "outputs": [
    {
     "data": {
      "text/plain": [
       "array([[ 1,  2],\n",
       "       [30, 52],\n",
       "       [20, 14]])"
      ]
     },
     "execution_count": 72,
     "metadata": {},
     "output_type": "execute_result"
    }
   ],
   "source": [
    "n6"
   ]
  },
  {
   "cell_type": "code",
   "execution_count": 74,
   "id": "89b48ba8",
   "metadata": {},
   "outputs": [],
   "source": [
    "n6.shape=(6,1)"
   ]
  },
  {
   "cell_type": "code",
   "execution_count": 75,
   "id": "1547ef24",
   "metadata": {},
   "outputs": [
    {
     "data": {
      "text/plain": [
       "array([[ 1],\n",
       "       [ 2],\n",
       "       [30],\n",
       "       [52],\n",
       "       [20],\n",
       "       [14]])"
      ]
     },
     "execution_count": 75,
     "metadata": {},
     "output_type": "execute_result"
    }
   ],
   "source": [
    "n6"
   ]
  },
  {
   "cell_type": "code",
   "execution_count": null,
   "id": "16b52347",
   "metadata": {},
   "outputs": [],
   "source": [
    "#two numpy join\n",
    "vstack(),hstack(),column_stack()"
   ]
  },
  {
   "cell_type": "code",
   "execution_count": 76,
   "id": "01d34514",
   "metadata": {},
   "outputs": [
    {
     "data": {
      "text/plain": [
       "array([[10, 20, 30],\n",
       "       [12, 52, 44]])"
      ]
     },
     "execution_count": 76,
     "metadata": {},
     "output_type": "execute_result"
    }
   ],
   "source": [
    "n7=np.array([10,20,30])\n",
    "n8=np.array([12,52,44])\n",
    "np.vstack((n7,n8))"
   ]
  },
  {
   "cell_type": "code",
   "execution_count": 78,
   "id": "92d9bccf",
   "metadata": {},
   "outputs": [
    {
     "data": {
      "text/plain": [
       "array([20, 21, 12, 40, 25, 35])"
      ]
     },
     "execution_count": 78,
     "metadata": {},
     "output_type": "execute_result"
    }
   ],
   "source": [
    "n1=np.array([20,21,12])\n",
    "n2=np.array([40,25,35])\n",
    "np.hstack((n1,n2))"
   ]
  },
  {
   "cell_type": "code",
   "execution_count": 79,
   "id": "3c908b58",
   "metadata": {},
   "outputs": [
    {
     "data": {
      "text/plain": [
       "array([[20, 40],\n",
       "       [21, 25],\n",
       "       [12, 35]])"
      ]
     },
     "execution_count": 79,
     "metadata": {},
     "output_type": "execute_result"
    }
   ],
   "source": [
    "n1=np.array([20,21,12])\n",
    "n2=np.array([40,25,35])\n",
    "np.column_stack((n1,n2))"
   ]
  },
  {
   "cell_type": "code",
   "execution_count": 81,
   "id": "31d7601b",
   "metadata": {},
   "outputs": [
    {
     "data": {
      "text/plain": [
       "array([20, 40, 55, 60])"
      ]
     },
     "execution_count": 81,
     "metadata": {},
     "output_type": "execute_result"
    }
   ],
   "source": [
    "n1=np.array([20,21,12,10,30,40,60,55])\n",
    "n2=np.array([40,25,35,20,55,60,44])\n",
    "np.intersect1d(n1,n2)"
   ]
  },
  {
   "cell_type": "code",
   "execution_count": 82,
   "id": "abb8ad12",
   "metadata": {},
   "outputs": [
    {
     "data": {
      "text/plain": [
       "array([10, 12, 21, 30])"
      ]
     },
     "execution_count": 82,
     "metadata": {},
     "output_type": "execute_result"
    }
   ],
   "source": [
    "n1=np.array([20,21,12,10,30,40,60,55])\n",
    "n2=np.array([40,25,35,20,55,60,44])\n",
    "np.setdiff1d(n1,n2)"
   ]
  },
  {
   "cell_type": "code",
   "execution_count": 83,
   "id": "2d0986b7",
   "metadata": {},
   "outputs": [
    {
     "data": {
      "text/plain": [
       "array([25, 35, 44])"
      ]
     },
     "execution_count": 83,
     "metadata": {},
     "output_type": "execute_result"
    }
   ],
   "source": [
    "n1=np.array([20,21,12,10,30,40,60,55])\n",
    "n2=np.array([40,25,35,20,55,60,44])\n",
    "np.setdiff1d(n2,n1)"
   ]
  },
  {
   "cell_type": "code",
   "execution_count": null,
   "id": "7b4c5662",
   "metadata": {},
   "outputs": [],
   "source": [
    "#addition of numpy"
   ]
  },
  {
   "cell_type": "code",
   "execution_count": 85,
   "id": "bee4d970",
   "metadata": {},
   "outputs": [
    {
     "data": {
      "text/plain": [
       "155"
      ]
     },
     "execution_count": 85,
     "metadata": {},
     "output_type": "execute_result"
    }
   ],
   "source": [
    "n1=np.array([20,45])\n",
    "n2=np.array([40,50])\n",
    "np.sum([n1,n2])"
   ]
  },
  {
   "cell_type": "code",
   "execution_count": 86,
   "id": "5ff26b12",
   "metadata": {},
   "outputs": [
    {
     "data": {
      "text/plain": [
       "array([60, 95])"
      ]
     },
     "execution_count": 86,
     "metadata": {},
     "output_type": "execute_result"
    }
   ],
   "source": [
    "np.sum([n1,n2],axis=0)"
   ]
  },
  {
   "cell_type": "code",
   "execution_count": 87,
   "id": "7aff32ba",
   "metadata": {},
   "outputs": [
    {
     "data": {
      "text/plain": [
       "array([65, 90])"
      ]
     },
     "execution_count": 87,
     "metadata": {},
     "output_type": "execute_result"
    }
   ],
   "source": [
    "np.sum([n1,n2],axis=1)"
   ]
  },
  {
   "cell_type": "code",
   "execution_count": null,
   "id": "5eb0291e",
   "metadata": {},
   "outputs": [],
   "source": [
    "#scalar \n",
    "basic addition \n",
    "basic multiplication\n",
    "basic substraction\n",
    "basic division"
   ]
  },
  {
   "cell_type": "code",
   "execution_count": 89,
   "id": "8300d75f",
   "metadata": {},
   "outputs": [
    {
     "data": {
      "text/plain": [
       "array([21, 22, 13, 11, 31, 41, 61, 56])"
      ]
     },
     "execution_count": 89,
     "metadata": {},
     "output_type": "execute_result"
    }
   ],
   "source": [
    "n1=np.array([20,21,12,10,30,40,60,55])\n",
    "n1=n1+1\n",
    "n1"
   ]
  },
  {
   "cell_type": "code",
   "execution_count": 91,
   "id": "2e6fe2d1",
   "metadata": {},
   "outputs": [
    {
     "data": {
      "text/plain": [
       "array([ 40,  42,  24,  20,  60,  80, 120, 110])"
      ]
     },
     "execution_count": 91,
     "metadata": {},
     "output_type": "execute_result"
    }
   ],
   "source": [
    "n1=np.array([20,21,12,10,30,40,60,55])\n",
    "n1=n1*2\n",
    "n1"
   ]
  },
  {
   "cell_type": "code",
   "execution_count": 93,
   "id": "ee69f9e9",
   "metadata": {},
   "outputs": [
    {
     "data": {
      "text/plain": [
       "array([19, 20, 11,  9, 29, 39, 59, 54])"
      ]
     },
     "execution_count": 93,
     "metadata": {},
     "output_type": "execute_result"
    }
   ],
   "source": [
    "n1=np.array([20,21,12,10,30,40,60,55])\n",
    "n1=n1-1\n",
    "n1"
   ]
  },
  {
   "cell_type": "code",
   "execution_count": 94,
   "id": "32609b58",
   "metadata": {},
   "outputs": [
    {
     "data": {
      "text/plain": [
       "array([10. , 10.5,  6. ,  5. , 15. , 20. , 30. , 27.5])"
      ]
     },
     "execution_count": 94,
     "metadata": {},
     "output_type": "execute_result"
    }
   ],
   "source": [
    "n1=np.array([20,21,12,10,30,40,60,55])\n",
    "n1=n1/2\n",
    "n1"
   ]
  },
  {
   "cell_type": "code",
   "execution_count": null,
   "id": "6acc4c40",
   "metadata": {},
   "outputs": [],
   "source": [
    "# mean ,median ,std deviation"
   ]
  },
  {
   "cell_type": "code",
   "execution_count": 95,
   "id": "34444dc5",
   "metadata": {},
   "outputs": [
    {
     "data": {
      "text/plain": [
       "31.0"
      ]
     },
     "execution_count": 95,
     "metadata": {},
     "output_type": "execute_result"
    }
   ],
   "source": [
    "n1=np.array([20,21,12,10,30,40,60,55])\n",
    "np.mean(n1)"
   ]
  },
  {
   "cell_type": "code",
   "execution_count": 96,
   "id": "c3bd4fff",
   "metadata": {},
   "outputs": [
    {
     "data": {
      "text/plain": [
       "25.5"
      ]
     },
     "execution_count": 96,
     "metadata": {},
     "output_type": "execute_result"
    }
   ],
   "source": [
    "n1=np.array([20,21,12,10,30,40,60,55])\n",
    "np.median(n1)"
   ]
  },
  {
   "cell_type": "code",
   "execution_count": 97,
   "id": "48d5832d",
   "metadata": {},
   "outputs": [
    {
     "data": {
      "text/plain": [
       "17.755280904564703"
      ]
     },
     "execution_count": 97,
     "metadata": {},
     "output_type": "execute_result"
    }
   ],
   "source": [
    "n1=np.array([20,21,12,10,30,40,60,55])\n",
    "np.std(n1)"
   ]
  },
  {
   "cell_type": "code",
   "execution_count": null,
   "id": "61fa2db0",
   "metadata": {},
   "outputs": [],
   "source": [
    "#save and load"
   ]
  },
  {
   "cell_type": "code",
   "execution_count": 98,
   "id": "910faded",
   "metadata": {},
   "outputs": [],
   "source": [
    "n1=np.array([20,21,12,10,30,40,60,55])\n",
    "np.save('my_numpy',n1)"
   ]
  },
  {
   "cell_type": "code",
   "execution_count": null,
   "id": "57d1366f",
   "metadata": {},
   "outputs": [],
   "source": [
    "n1=np.array('my_numpy.npy')\n",
    "n1"
   ]
  },
  {
   "cell_type": "code",
   "execution_count": null,
   "id": "a5d0da33",
   "metadata": {},
   "outputs": [],
   "source": []
  },
  {
   "cell_type": "code",
   "execution_count": null,
   "id": "a88c8161",
   "metadata": {},
   "outputs": [],
   "source": []
  }
 ],
 "metadata": {
  "kernelspec": {
   "display_name": "Python 3 (ipykernel)",
   "language": "python",
   "name": "python3"
  },
  "language_info": {
   "codemirror_mode": {
    "name": "ipython",
    "version": 3
   },
   "file_extension": ".py",
   "mimetype": "text/x-python",
   "name": "python",
   "nbconvert_exporter": "python",
   "pygments_lexer": "ipython3",
   "version": "3.9.7"
  }
 },
 "nbformat": 4,
 "nbformat_minor": 5
}
