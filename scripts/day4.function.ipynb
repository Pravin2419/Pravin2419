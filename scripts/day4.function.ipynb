{
 "cells": [
  {
   "cell_type": "markdown",
   "id": "83765e20",
   "metadata": {},
   "source": [
    "### functin\n"
   ]
  },
  {
   "cell_type": "code",
   "execution_count": 1,
   "id": "6ac824a3",
   "metadata": {},
   "outputs": [],
   "source": [
    "def hello():\n",
    "    print(\"hello wrld\")"
   ]
  },
  {
   "cell_type": "code",
   "execution_count": 3,
   "id": "43e5409e",
   "metadata": {},
   "outputs": [],
   "source": [
    "def add_10(x):\n",
    "    return x+10"
   ]
  },
  {
   "cell_type": "code",
   "execution_count": 4,
   "id": "33505d3c",
   "metadata": {},
   "outputs": [
    {
     "data": {
      "text/plain": [
       "15"
      ]
     },
     "execution_count": 4,
     "metadata": {},
     "output_type": "execute_result"
    }
   ],
   "source": [
    "add_10(5)"
   ]
  },
  {
   "cell_type": "code",
   "execution_count": 10,
   "id": "ae6f88c7",
   "metadata": {},
   "outputs": [],
   "source": [
    "def add_even(x):\n",
    "    if x%2==0:\n",
    "        print (x,\"is even\")\n",
    "    else:\n",
    "            print(x,\"is odd\")\n"
   ]
  },
  {
   "cell_type": "code",
   "execution_count": 13,
   "id": "cd7a560a",
   "metadata": {},
   "outputs": [
    {
     "name": "stdout",
     "output_type": "stream",
     "text": [
      "10 is even\n"
     ]
    }
   ],
   "source": [
    "add_even(10)"
   ]
  },
  {
   "cell_type": "code",
   "execution_count": 14,
   "id": "54c8f3b2",
   "metadata": {},
   "outputs": [
    {
     "name": "stdout",
     "output_type": "stream",
     "text": [
      "36\n",
      "400\n"
     ]
    }
   ],
   "source": [
    "def square(x):\n",
    "     print(x**2)\n",
    "\n",
    "square(6)\n",
    "square(20)"
   ]
  },
  {
   "cell_type": "code",
   "execution_count": 15,
   "id": "b5bbb783",
   "metadata": {},
   "outputs": [
    {
     "data": {
      "text/plain": [
       "8.999999999999998"
      ]
     },
     "execution_count": 15,
     "metadata": {},
     "output_type": "execute_result"
    }
   ],
   "source": [
    "def cube_root(x):\n",
    "    return x**(1/3)\n",
    "cube_root(256)\n",
    "cube_root(729)"
   ]
  },
  {
   "cell_type": "code",
   "execution_count": 1,
   "id": "d178f27f",
   "metadata": {},
   "outputs": [],
   "source": [
    "g=lambda x: x*x*x"
   ]
  },
  {
   "cell_type": "code",
   "execution_count": 2,
   "id": "325fc2ad",
   "metadata": {},
   "outputs": [
    {
     "data": {
      "text/plain": [
       "1000"
      ]
     },
     "execution_count": 2,
     "metadata": {},
     "output_type": "execute_result"
    }
   ],
   "source": [
    "g(10)"
   ]
  },
  {
   "cell_type": "code",
   "execution_count": null,
   "id": "de3d907b",
   "metadata": {},
   "outputs": [],
   "source": [
    "#lambda with flter "
   ]
  },
  {
   "cell_type": "code",
   "execution_count": 4,
   "id": "ade2bb26",
   "metadata": {},
   "outputs": [],
   "source": [
    "l1=[1,2,3,54,69,88,10]\n",
    "final_list=list(filter(lambda x:(x%2==0),l1))"
   ]
  },
  {
   "cell_type": "code",
   "execution_count": 5,
   "id": "4baca9a3",
   "metadata": {},
   "outputs": [
    {
     "data": {
      "text/plain": [
       "[2, 54, 88, 10]"
      ]
     },
     "execution_count": 5,
     "metadata": {},
     "output_type": "execute_result"
    }
   ],
   "source": [
    "final_list"
   ]
  },
  {
   "cell_type": "code",
   "execution_count": null,
   "id": "7348b2df",
   "metadata": {},
   "outputs": [],
   "source": [
    "#lambda with map"
   ]
  },
  {
   "cell_type": "code",
   "execution_count": null,
   "id": "9be0f651",
   "metadata": {},
   "outputs": [],
   "source": [
    "l1=[1,2,3,54,69,88,10]"
   ]
  },
  {
   "cell_type": "code",
   "execution_count": 9,
   "id": "5fdfeadc",
   "metadata": {},
   "outputs": [],
   "source": [
    "list_final_new=list(map(lambda x: x*2,l1))"
   ]
  },
  {
   "cell_type": "code",
   "execution_count": 10,
   "id": "332be0be",
   "metadata": {},
   "outputs": [
    {
     "data": {
      "text/plain": [
       "[2, 4, 6, 108, 138, 176, 20]"
      ]
     },
     "execution_count": 10,
     "metadata": {},
     "output_type": "execute_result"
    }
   ],
   "source": [
    "list_final_new"
   ]
  },
  {
   "cell_type": "code",
   "execution_count": 14,
   "id": "fb0933e2",
   "metadata": {},
   "outputs": [],
   "source": [
    "from functools import reduce"
   ]
  },
  {
   "cell_type": "code",
   "execution_count": 16,
   "id": "1b405672",
   "metadata": {},
   "outputs": [],
   "source": [
    "l2=reduce(lambda x,y: x+y,l1)"
   ]
  },
  {
   "cell_type": "code",
   "execution_count": 17,
   "id": "20b2e6b7",
   "metadata": {},
   "outputs": [
    {
     "data": {
      "text/plain": [
       "227"
      ]
     },
     "execution_count": 17,
     "metadata": {},
     "output_type": "execute_result"
    }
   ],
   "source": [
    "l2"
   ]
  },
  {
   "cell_type": "code",
   "execution_count": null,
   "id": "8385463c",
   "metadata": {},
   "outputs": [],
   "source": []
  }
 ],
 "metadata": {
  "kernelspec": {
   "display_name": "Python 3 (ipykernel)",
   "language": "python",
   "name": "python3"
  },
  "language_info": {
   "codemirror_mode": {
    "name": "ipython",
    "version": 3
   },
   "file_extension": ".py",
   "mimetype": "text/x-python",
   "name": "python",
   "nbconvert_exporter": "python",
   "pygments_lexer": "ipython3",
   "version": "3.9.7"
  }
 },
 "nbformat": 4,
 "nbformat_minor": 5
}
