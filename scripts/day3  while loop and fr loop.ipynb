{
 "cells": [
  {
   "cell_type": "markdown",
   "id": "1ef82146",
   "metadata": {},
   "source": [
    "## while loop"
   ]
  },
  {
   "cell_type": "code",
   "execution_count": 2,
   "id": "45e2dc05",
   "metadata": {},
   "outputs": [
    {
     "name": "stdout",
     "output_type": "stream",
     "text": [
      "1\n",
      "2\n",
      "3\n",
      "4\n",
      "5\n",
      "6\n",
      "7\n",
      "8\n",
      "9\n",
      "10\n"
     ]
    }
   ],
   "source": [
    "i= 1\n",
    "while i<=10:\n",
    "    print(i)\n",
    "    i=i+1"
   ]
  },
  {
   "cell_type": "code",
   "execution_count": 6,
   "id": "129c9600",
   "metadata": {},
   "outputs": [
    {
     "name": "stdout",
     "output_type": "stream",
     "text": [
      "2  *  1 * 2\n",
      "2  *  2 * 4\n",
      "2  *  3 * 6\n",
      "2  *  4 * 8\n",
      "2  *  5 * 10\n",
      "2  *  6 * 12\n",
      "2  *  7 * 14\n",
      "2  *  8 * 16\n",
      "2  *  9 * 18\n",
      "2  *  10 * 20\n"
     ]
    }
   ],
   "source": [
    "i=1\n",
    "n=2\n",
    "while i<=10:\n",
    "    print(n ,\" * \",i,\"*\",n*i)\n",
    "    i=i+1"
   ]
  },
  {
   "cell_type": "markdown",
   "id": "aea2cd12",
   "metadata": {},
   "source": [
    "## for loop"
   ]
  },
  {
   "cell_type": "code",
   "execution_count": 8,
   "id": "a91c8d1a",
   "metadata": {},
   "outputs": [
    {
     "name": "stdout",
     "output_type": "stream",
     "text": [
      "1,2,3,4,5,6,7,8,9,10,"
     ]
    }
   ],
   "source": [
    "for i in range(1,11):\n",
    "    print(i, end=\",\")"
   ]
  },
  {
   "cell_type": "code",
   "execution_count": 9,
   "id": "3250d722",
   "metadata": {},
   "outputs": [
    {
     "name": "stdout",
     "output_type": "stream",
     "text": [
      "['piizza', 'burger', 'mocktail', 'pasta']\n"
     ]
    }
   ],
   "source": [
    "list1 =[\"piizza\",\"burger\",\"mocktail\",\"pasta\"]\n",
    "print(list1)"
   ]
  },
  {
   "cell_type": "code",
   "execution_count": 10,
   "id": "bd6c8151",
   "metadata": {},
   "outputs": [
    {
     "name": "stdout",
     "output_type": "stream",
     "text": [
      "snacks: piizza\n",
      "snacks: burger\n",
      "snacks: mocktail\n",
      "snacks: pasta\n"
     ]
    }
   ],
   "source": [
    "list1 =[\"piizza\",\"burger\",\"mocktail\",\"pasta\"]\n",
    "for i in list1:\n",
    "    print(\"snacks:\",i)"
   ]
  },
  {
   "cell_type": "code",
   "execution_count": 11,
   "id": "71923b34",
   "metadata": {},
   "outputs": [
    {
     "name": "stdout",
     "output_type": "stream",
     "text": [
      "-3,-2,-1,0,1,2,3,"
     ]
    }
   ],
   "source": [
    "for i in range(-3 ,4):\n",
    "    print(i,end=\",\")"
   ]
  },
  {
   "cell_type": "code",
   "execution_count": 12,
   "id": "3fdd9f89",
   "metadata": {},
   "outputs": [
    {
     "name": "stdout",
     "output_type": "stream",
     "text": [
      "-3,-2,2,3,"
     ]
    }
   ],
   "source": [
    "for i in range(-3,4):\n",
    "    if i==0 or i==-1 or i==1:\n",
    "        continue\n",
    "    else:\n",
    "        print(i,end=\",\")"
   ]
  },
  {
   "cell_type": "code",
   "execution_count": 13,
   "id": "7bda19b3",
   "metadata": {},
   "outputs": [
    {
     "name": "stdout",
     "output_type": "stream",
     "text": [
      "-3,-2,-1,1,2,3,"
     ]
    }
   ],
   "source": [
    "for i in range(-3,4):\n",
    "    if i==0:\n",
    "        continue\n",
    "    else:\n",
    "        print(i,end=\",\")"
   ]
  },
  {
   "cell_type": "code",
   "execution_count": 14,
   "id": "08439b90",
   "metadata": {},
   "outputs": [
    {
     "name": "stdout",
     "output_type": "stream",
     "text": [
      "orange mob\n",
      "orange lap\n",
      "orange chair\n",
      "black mob\n",
      "black lap\n",
      "black chair\n",
      "green mob\n",
      "green lap\n",
      "green chair\n"
     ]
    }
   ],
   "source": [
    "l1 =['orange','black','green']\n",
    "l2=['mob','lap','chair']\n",
    "for i in l1:\n",
    "    for j in l2:\n",
    "        print(i,j)"
   ]
  },
  {
   "cell_type": "code",
   "execution_count": null,
   "id": "8d36e108",
   "metadata": {},
   "outputs": [],
   "source": []
  },
  {
   "cell_type": "code",
   "execution_count": null,
   "id": "5ce6d65f",
   "metadata": {},
   "outputs": [],
   "source": []
  },
  {
   "cell_type": "code",
   "execution_count": null,
   "id": "56a8c33c",
   "metadata": {},
   "outputs": [],
   "source": []
  },
  {
   "cell_type": "code",
   "execution_count": null,
   "id": "a742d7b9",
   "metadata": {},
   "outputs": [],
   "source": []
  }
 ],
 "metadata": {
  "kernelspec": {
   "display_name": "Python 3 (ipykernel)",
   "language": "python",
   "name": "python3"
  },
  "language_info": {
   "codemirror_mode": {
    "name": "ipython",
    "version": 3
   },
   "file_extension": ".py",
   "mimetype": "text/x-python",
   "name": "python",
   "nbconvert_exporter": "python",
   "pygments_lexer": "ipython3",
   "version": "3.9.7"
  }
 },
 "nbformat": 4,
 "nbformat_minor": 5
}
