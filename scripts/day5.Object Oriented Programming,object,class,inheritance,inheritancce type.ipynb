{
 "cells": [
  {
   "cell_type": "markdown",
   "id": "46626d97",
   "metadata": {},
   "source": [
    "## Object Oriented Programming"
   ]
  },
  {
   "cell_type": "code",
   "execution_count": null,
   "id": "2a3af0f7",
   "metadata": {},
   "outputs": [],
   "source": [
    "#class and object\n"
   ]
  },
  {
   "cell_type": "code",
   "execution_count": 4,
   "id": "3fba0917",
   "metadata": {},
   "outputs": [],
   "source": [
    "class phone:\n",
    "    def make_call(self):\n",
    "        print('i am calling a call')\n",
    "    def play_game(self):\n",
    "        print(\"i am playing game\")"
   ]
  },
  {
   "cell_type": "code",
   "execution_count": 6,
   "id": "71f842f6",
   "metadata": {},
   "outputs": [],
   "source": [
    "p1=phone()"
   ]
  },
  {
   "cell_type": "code",
   "execution_count": 8,
   "id": "93ddf2f6",
   "metadata": {},
   "outputs": [
    {
     "name": "stdout",
     "output_type": "stream",
     "text": [
      "i am calling a call\n"
     ]
    }
   ],
   "source": [
    "p1.make_call()"
   ]
  },
  {
   "cell_type": "code",
   "execution_count": 9,
   "id": "88fa6a47",
   "metadata": {},
   "outputs": [
    {
     "name": "stdout",
     "output_type": "stream",
     "text": [
      "i am playing game\n"
     ]
    }
   ],
   "source": [
    "p1.play_game()"
   ]
  },
  {
   "cell_type": "code",
   "execution_count": 12,
   "id": "2684e8ac",
   "metadata": {},
   "outputs": [],
   "source": [
    "class phone:\n",
    "    def set_color(self,color):\n",
    "        self.color=color\n",
    "    def set_cost(self,cost):\n",
    "        self.cost=cost\n",
    "    def show_color(self):\n",
    "        return self.color\n",
    "    def show_cost(self):\n",
    "        return self.cost\n",
    "    def make_call(self):\n",
    "        print('make a call')\n",
    "    def play_game(self):\n",
    "        print (\"play a game\")"
   ]
  },
  {
   "cell_type": "code",
   "execution_count": 13,
   "id": "04b84463",
   "metadata": {},
   "outputs": [],
   "source": [
    "p2=phone()"
   ]
  },
  {
   "cell_type": "code",
   "execution_count": 14,
   "id": "0f51d797",
   "metadata": {},
   "outputs": [],
   "source": [
    "p2.set_color(\"blue\")"
   ]
  },
  {
   "cell_type": "code",
   "execution_count": 15,
   "id": "210efef1",
   "metadata": {},
   "outputs": [],
   "source": [
    "p2.set_cost(5000)"
   ]
  },
  {
   "cell_type": "code",
   "execution_count": 16,
   "id": "a75bb5ea",
   "metadata": {},
   "outputs": [
    {
     "data": {
      "text/plain": [
       "'blue'"
      ]
     },
     "execution_count": 16,
     "metadata": {},
     "output_type": "execute_result"
    }
   ],
   "source": [
    "p2.show_color()"
   ]
  },
  {
   "cell_type": "code",
   "execution_count": 18,
   "id": "0ef24d40",
   "metadata": {},
   "outputs": [
    {
     "data": {
      "text/plain": [
       "5000"
      ]
     },
     "execution_count": 18,
     "metadata": {},
     "output_type": "execute_result"
    }
   ],
   "source": [
    "p2.show_cost()"
   ]
  },
  {
   "cell_type": "code",
   "execution_count": 19,
   "id": "42c922b0",
   "metadata": {},
   "outputs": [
    {
     "name": "stdout",
     "output_type": "stream",
     "text": [
      "make a call\n"
     ]
    }
   ],
   "source": [
    "p2.make_call()"
   ]
  },
  {
   "cell_type": "code",
   "execution_count": 20,
   "id": "c59e286e",
   "metadata": {},
   "outputs": [
    {
     "name": "stdout",
     "output_type": "stream",
     "text": [
      "play a game\n"
     ]
    }
   ],
   "source": [
    "p2.play_game()"
   ]
  },
  {
   "cell_type": "code",
   "execution_count": 21,
   "id": "65e34559",
   "metadata": {},
   "outputs": [],
   "source": [
    "## class with constructor"
   ]
  },
  {
   "cell_type": "code",
   "execution_count": 27,
   "id": "e9584e89",
   "metadata": {},
   "outputs": [],
   "source": [
    "class employee:\n",
    "    def __init__(self,name,age,salary,gender):\n",
    "        self.name = name\n",
    "        self.age = age\n",
    "        self.salary = salary\n",
    "        self.gender = gender\n",
    "        \n",
    "        \n",
    "    def employee_details(self):\n",
    "        print(\"name of employee is\",self.name)\n",
    "        print(\"age of employee is\", self.age)\n",
    "        print(\"salary of employee is\",self.salary)\n",
    "        print(\"gender of employee is\",self.gender)"
   ]
  },
  {
   "cell_type": "code",
   "execution_count": 28,
   "id": "995a3b9b",
   "metadata": {},
   "outputs": [],
   "source": [
    "e1 =employee(\"sam\",32,4000,\"male\")"
   ]
  },
  {
   "cell_type": "code",
   "execution_count": 29,
   "id": "baa909db",
   "metadata": {},
   "outputs": [
    {
     "name": "stdout",
     "output_type": "stream",
     "text": [
      "name of employee is sam\n",
      "age of employee is 32\n",
      "salary of employee is 4000\n",
      "gender of employee is male\n",
      "None\n"
     ]
    }
   ],
   "source": [
    "print(e1.employee_details())"
   ]
  },
  {
   "cell_type": "markdown",
   "id": "43c873b0",
   "metadata": {},
   "source": [
    "## inheritance"
   ]
  },
  {
   "cell_type": "code",
   "execution_count": 48,
   "id": "6ea5dfcd",
   "metadata": {},
   "outputs": [],
   "source": [
    "class vehicale:\n",
    "    def __init__(self,millage,cost):\n",
    "        self.millage= millage\n",
    "        self.cost = cost\n",
    "        \n",
    "    def show_vehicale_details(self):\n",
    "        print(\"milage of vehicale is\",self.millage)\n",
    "        print(\"cost of vehicale is\",self.cost)\n",
    "        print('i am a car')"
   ]
  },
  {
   "cell_type": "code",
   "execution_count": 37,
   "id": "f13d2e7d",
   "metadata": {},
   "outputs": [],
   "source": [
    "v1=vehicale(410,5000000)"
   ]
  },
  {
   "cell_type": "code",
   "execution_count": 41,
   "id": "1b9aab74",
   "metadata": {},
   "outputs": [
    {
     "name": "stdout",
     "output_type": "stream",
     "text": [
      "milage of vehicale is 410\n",
      "cost of vehicale is 5000000\n",
      "i am a car\n"
     ]
    }
   ],
   "source": [
    "v1.show_vehicale_details()"
   ]
  },
  {
   "cell_type": "code",
   "execution_count": 43,
   "id": "61007533",
   "metadata": {},
   "outputs": [],
   "source": [
    "#super clsss\n",
    "class car(vehicale):\n",
    "    def show_car_details():\n",
    "     print('i am car')"
   ]
  },
  {
   "cell_type": "code",
   "execution_count": 44,
   "id": "bd605bae",
   "metadata": {},
   "outputs": [],
   "source": [
    "c1= car(400,5555555)"
   ]
  },
  {
   "cell_type": "code",
   "execution_count": 50,
   "id": "a1cf6b5c",
   "metadata": {},
   "outputs": [
    {
     "name": "stdout",
     "output_type": "stream",
     "text": [
      "milage of vehicale is 400\n",
      "cost of vehicale is 5555555\n",
      "i am a car\n"
     ]
    }
   ],
   "source": [
    "c1.show_vehicale_details()"
   ]
  },
  {
   "cell_type": "code",
   "execution_count": null,
   "id": "308b8cc5",
   "metadata": {},
   "outputs": [],
   "source": [
    "#type of inheritance\n",
    "1.multiple\n",
    "2.single\n",
    "3.multi_level\n",
    "4.hybride inheritance"
   ]
  },
  {
   "cell_type": "code",
   "execution_count": null,
   "id": "67f88a56",
   "metadata": {},
   "outputs": [],
   "source": [
    "#multiple inheritance"
   ]
  },
  {
   "cell_type": "code",
   "execution_count": 56,
   "id": "46cd00d5",
   "metadata": {},
   "outputs": [],
   "source": [
    "class parent1:\n",
    "    def assign_str_one(self,str1):\n",
    "        self.str1=str1\n",
    "    def show_str_one(self):\n",
    "        return self.str1"
   ]
  },
  {
   "cell_type": "code",
   "execution_count": 57,
   "id": "1ddadfa3",
   "metadata": {},
   "outputs": [],
   "source": [
    "class parent2:\n",
    "    def assign_str_two(self,str2):\n",
    "        self.str2=str2\n",
    "    def show_str_two(self):\n",
    "        return self.str2"
   ]
  },
  {
   "cell_type": "code",
   "execution_count": 85,
   "id": "1edc8e66",
   "metadata": {},
   "outputs": [],
   "source": [
    "class child(parent1,parent2):\n",
    "    def assign_str_three(self,str3):\n",
    "        self.str3=str3\n",
    "    def show_str_three(self):\n",
    "        return self.str3"
   ]
  },
  {
   "cell_type": "code",
   "execution_count": 86,
   "id": "3d34449e",
   "metadata": {},
   "outputs": [],
   "source": [
    "my_child =child()"
   ]
  },
  {
   "cell_type": "code",
   "execution_count": 87,
   "id": "d8906223",
   "metadata": {},
   "outputs": [],
   "source": [
    "my_child.assign_str_one('i am string of parent 1')\n"
   ]
  },
  {
   "cell_type": "code",
   "execution_count": 88,
   "id": "12b17167",
   "metadata": {},
   "outputs": [],
   "source": [
    "my_child.assign_str_two(\"i am string of paent 2\")"
   ]
  },
  {
   "cell_type": "code",
   "execution_count": 89,
   "id": "fd1151a3",
   "metadata": {},
   "outputs": [],
   "source": [
    "my_child.assign_str_three(\" i am string of child\")"
   ]
  },
  {
   "cell_type": "code",
   "execution_count": 90,
   "id": "9129f2fe",
   "metadata": {},
   "outputs": [],
   "source": [
    "my_child.assign_str_three(\" i am string of child\")"
   ]
  },
  {
   "cell_type": "code",
   "execution_count": 92,
   "id": "ab63d2b4",
   "metadata": {},
   "outputs": [
    {
     "data": {
      "text/plain": [
       "'i am string of parent 1'"
      ]
     },
     "execution_count": 92,
     "metadata": {},
     "output_type": "execute_result"
    }
   ],
   "source": [
    "my_child.show_str_one()"
   ]
  },
  {
   "cell_type": "code",
   "execution_count": 93,
   "id": "6c330705",
   "metadata": {},
   "outputs": [
    {
     "data": {
      "text/plain": [
       "'i am string of paent 2'"
      ]
     },
     "execution_count": 93,
     "metadata": {},
     "output_type": "execute_result"
    }
   ],
   "source": [
    "my_child.show_str_two()"
   ]
  },
  {
   "cell_type": "code",
   "execution_count": 94,
   "id": "d94fc720",
   "metadata": {},
   "outputs": [
    {
     "data": {
      "text/plain": [
       "' i am string of child'"
      ]
     },
     "execution_count": 94,
     "metadata": {},
     "output_type": "execute_result"
    }
   ],
   "source": [
    "my_child.show_str_three()"
   ]
  },
  {
   "cell_type": "code",
   "execution_count": null,
   "id": "52ccab41",
   "metadata": {},
   "outputs": [],
   "source": [
    "#multi-level inheritance"
   ]
  },
  {
   "cell_type": "code",
   "execution_count": 122,
   "id": "4964f666",
   "metadata": {},
   "outputs": [],
   "source": [
    "class parent():\n",
    "    def get_name(self,name):\n",
    "        self.name=name\n",
    "        def show_name(self):\n",
    "            return self.name"
   ]
  },
  {
   "cell_type": "code",
   "execution_count": 114,
   "id": "6072ab89",
   "metadata": {},
   "outputs": [],
   "source": [
    "class child(parent):\n",
    "    def get_age(self,age):\n",
    "        self.age=age\n",
    "    def show_age(self):\n",
    "        return self.age"
   ]
  },
  {
   "cell_type": "code",
   "execution_count": 115,
   "id": "0efe46b7",
   "metadata": {},
   "outputs": [],
   "source": [
    "class grandchild(child):\n",
    "    def get_gender(self,gender):\n",
    "        self.gender=gender\n",
    "    def show_gender(self):\n",
    "        return self.gnder"
   ]
  },
  {
   "cell_type": "code",
   "execution_count": 116,
   "id": "fb4f7858",
   "metadata": {},
   "outputs": [],
   "source": [
    " gc = grandchild()"
   ]
  },
  {
   "cell_type": "code",
   "execution_count": 117,
   "id": "0d211cbb",
   "metadata": {},
   "outputs": [],
   "source": [
    "gc.get_name('avi')"
   ]
  },
  {
   "cell_type": "code",
   "execution_count": 118,
   "id": "ef717104",
   "metadata": {},
   "outputs": [],
   "source": [
    "gc.get_age(32)"
   ]
  },
  {
   "cell_type": "code",
   "execution_count": 119,
   "id": "7d743347",
   "metadata": {},
   "outputs": [],
   "source": [
    "gc.get_gender(\"male\")"
   ]
  },
  {
   "cell_type": "code",
   "execution_count": 124,
   "id": "34cfdf12",
   "metadata": {},
   "outputs": [
    {
     "data": {
      "text/plain": [
       "32"
      ]
     },
     "execution_count": 124,
     "metadata": {},
     "output_type": "execute_result"
    }
   ],
   "source": [
    "gc.show_age()"
   ]
  }
 ],
 "metadata": {
  "kernelspec": {
   "display_name": "Python 3 (ipykernel)",
   "language": "python",
   "name": "python3"
  },
  "language_info": {
   "codemirror_mode": {
    "name": "ipython",
    "version": 3
   },
   "file_extension": ".py",
   "mimetype": "text/x-python",
   "name": "python",
   "nbconvert_exporter": "python",
   "pygments_lexer": "ipython3",
   "version": "3.9.7"
  }
 },
 "nbformat": 4,
 "nbformat_minor": 5
}
