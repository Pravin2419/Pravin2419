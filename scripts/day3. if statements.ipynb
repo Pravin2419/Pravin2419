{
 "cells": [
  {
   "cell_type": "markdown",
   "id": "68839b2d",
   "metadata": {},
   "source": [
    "## if loop\n"
   ]
  },
  {
   "cell_type": "code",
   "execution_count": 10,
   "id": "e949aa7c",
   "metadata": {},
   "outputs": [
    {
     "name": "stdout",
     "output_type": "stream",
     "text": [
      "b is greter than a\n"
     ]
    }
   ],
   "source": [
    "a=10\n",
    "b=25\n",
    "if a>b:\n",
    "    print(\"a is greter than b\")\n",
    "else:\n",
    "    print(\"b is greter than a\")"
   ]
  },
  {
   "cell_type": "code",
   "execution_count": 14,
   "id": "f35b9069",
   "metadata": {},
   "outputs": [
    {
     "name": "stdout",
     "output_type": "stream",
     "text": [
      "c is the gretest\n"
     ]
    }
   ],
   "source": [
    "a =25\n",
    "b=10\n",
    "c=50\n",
    "if (a>b)& (a>c):\n",
    "    print(\"a is the gretest\")\n",
    "elif (b>a)&(b>c):\n",
    "    print(\"b is the gretest\")\n",
    "else:\n",
    "    print(\"c is the gretest\")"
   ]
  },
  {
   "cell_type": "code",
   "execution_count": null,
   "id": "bd593625",
   "metadata": {},
   "outputs": [],
   "source": [
    "## if tuple \n"
   ]
  },
  {
   "cell_type": "code",
   "execution_count": 26,
   "id": "2ef6f3c6",
   "metadata": {},
   "outputs": [
    {
     "name": "stdout",
     "output_type": "stream",
     "text": [
      "value z is not pesen in tup 1\n"
     ]
    }
   ],
   "source": [
    "tup1=('a',\"b\",\"c\")\n",
    "if 'z' in tup1:\n",
    "    print(\"vallue a is pesent in tup1\")\n",
    "else:\n",
    "    print('value z is not pesen in tup 1')"
   ]
  },
  {
   "cell_type": "code",
   "execution_count": 27,
   "id": "4afc5d34",
   "metadata": {},
   "outputs": [],
   "source": [
    "# if  with list"
   ]
  },
  {
   "cell_type": "code",
   "execution_count": 31,
   "id": "457b5167",
   "metadata": {},
   "outputs": [],
   "source": [
    "l1 =[\"a\",'b','c']\n",
    "l1\n",
    "if l1 [1]=='b':\n",
    "    l1[1]='z'"
   ]
  },
  {
   "cell_type": "code",
   "execution_count": 32,
   "id": "e434dd17",
   "metadata": {},
   "outputs": [
    {
     "data": {
      "text/plain": [
       "['a', 'z', 'c']"
      ]
     },
     "execution_count": 32,
     "metadata": {},
     "output_type": "execute_result"
    }
   ],
   "source": [
    "l1"
   ]
  },
  {
   "cell_type": "code",
   "execution_count": null,
   "id": "1ac17a3a",
   "metadata": {},
   "outputs": [],
   "source": []
  },
  {
   "cell_type": "code",
   "execution_count": null,
   "id": "4bce9437",
   "metadata": {},
   "outputs": [],
   "source": []
  }
 ],
 "metadata": {
  "kernelspec": {
   "display_name": "Python 3 (ipykernel)",
   "language": "python",
   "name": "python3"
  },
  "language_info": {
   "codemirror_mode": {
    "name": "ipython",
    "version": 3
   },
   "file_extension": ".py",
   "mimetype": "text/x-python",
   "name": "python",
   "nbconvert_exporter": "python",
   "pygments_lexer": "ipython3",
   "version": "3.9.7"
  }
 },
 "nbformat": 4,
 "nbformat_minor": 5
}
