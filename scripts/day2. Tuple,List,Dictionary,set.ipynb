{
 "cells": [
  {
   "cell_type": "markdown",
   "id": "69070be5",
   "metadata": {},
   "source": [
    "## tuple\n"
   ]
  },
  {
   "cell_type": "code",
   "execution_count": 9,
   "id": "e25ade4a",
   "metadata": {},
   "outputs": [
    {
     "name": "stdout",
     "output_type": "stream",
     "text": [
      "(1, True, 20, 25, 15)\n",
      "<class 'tuple'>\n",
      "5\n"
     ]
    }
   ],
   "source": [
    "tup1 =(1,True,20,25,15)\n",
    "print(tup1)\n",
    "print(type(tup1))\n",
    "print(len(tup1))"
   ]
  },
  {
   "cell_type": "code",
   "execution_count": 11,
   "id": "ec8c997a",
   "metadata": {},
   "outputs": [
    {
     "name": "stdout",
     "output_type": "stream",
     "text": [
      "1\n"
     ]
    }
   ],
   "source": [
    "#indivisual lements\n",
    "tup1=(1,\"b\",True,\"a\",False)\n",
    "print(tup1[0])"
   ]
  },
  {
   "cell_type": "code",
   "execution_count": 12,
   "id": "33069e19",
   "metadata": {},
   "outputs": [
    {
     "name": "stdout",
     "output_type": "stream",
     "text": [
      "False\n"
     ]
    }
   ],
   "source": [
    "print(tup1[-1])"
   ]
  },
  {
   "cell_type": "code",
   "execution_count": 16,
   "id": "78ad3d35",
   "metadata": {},
   "outputs": [
    {
     "name": "stdout",
     "output_type": "stream",
     "text": [
      "('b', True)\n"
     ]
    }
   ],
   "source": [
    "print(tup1[1:3])"
   ]
  },
  {
   "cell_type": "code",
   "execution_count": 20,
   "id": "4e8c0878",
   "metadata": {},
   "outputs": [
    {
     "name": "stdout",
     "output_type": "stream",
     "text": [
      "(1, 2, 3, 6, 7, 8)\n",
      "<class 'tuple'>\n",
      "6\n"
     ]
    }
   ],
   "source": [
    "tup1 =(1,2,3)\n",
    "tup2=(6,7,8)\n",
    "print(tup1+tup2)\n",
    "print(type(tup1+tup2))\n",
    "print(len(tup1+tup2))"
   ]
  },
  {
   "cell_type": "code",
   "execution_count": 23,
   "id": "266c1635",
   "metadata": {},
   "outputs": [
    {
     "name": "stdout",
     "output_type": "stream",
     "text": [
      "('sparta', 800, 'sparta', 800, 'sparta', 800)\n"
     ]
    }
   ],
   "source": [
    "tup1=('sparta',800)\n",
    "print(tup1*3)"
   ]
  },
  {
   "cell_type": "code",
   "execution_count": 24,
   "id": "dd3fa8f4",
   "metadata": {},
   "outputs": [
    {
     "name": "stdout",
     "output_type": "stream",
     "text": [
      "('sparta', 2, 5, 5, 'sparta', 2, 5, 5, 3, 4, 5)\n"
     ]
    }
   ],
   "source": [
    "tup1=('sparta',2,5,5)\n",
    "tup2=(3,4,5)\n",
    "print(tup1*2+tup2)"
   ]
  },
  {
   "cell_type": "code",
   "execution_count": 30,
   "id": "c769dfd8",
   "metadata": {},
   "outputs": [
    {
     "name": "stdout",
     "output_type": "stream",
     "text": [
      "2\n",
      "5\n"
     ]
    }
   ],
   "source": [
    "# max and min value \n",
    "tup1=(2,3,4,5,5)\n",
    "print(min(tup1))\n",
    "print(max(tup1))\n",
    "\n"
   ]
  },
  {
   "cell_type": "markdown",
   "id": "999e8443",
   "metadata": {},
   "source": [
    "## list\n"
   ]
  },
  {
   "cell_type": "code",
   "execution_count": 40,
   "id": "a15680f9",
   "metadata": {},
   "outputs": [
    {
     "name": "stdout",
     "output_type": "stream",
     "text": [
      "[2, 5, True, 4, False]\n",
      "<class 'list'>\n",
      "5\n",
      "2\n",
      "5\n",
      "False\n"
     ]
    }
   ],
   "source": [
    "p1=[2,5,True,4,False]\n",
    "print(p1)\n",
    "print(type(p1))\n",
    "print(len(p1))\n",
    "print(p1[0])\n",
    "print(max(p1))\n",
    "print(min(p1))"
   ]
  },
  {
   "cell_type": "code",
   "execution_count": 64,
   "id": "a6963503",
   "metadata": {},
   "outputs": [
    {
     "name": "stdout",
     "output_type": "stream",
     "text": [
      "[100, 2, 3, 4, 'a', 'b']\n"
     ]
    }
   ],
   "source": [
    "#changing elements\n",
    "p1=[1,2,3,4,\"a\",\"b\"]\n",
    "p1[0]=100\n",
    "print(p1)"
   ]
  },
  {
   "cell_type": "code",
   "execution_count": 69,
   "id": "8b2f1b3a",
   "metadata": {},
   "outputs": [
    {
     "data": {
      "text/plain": [
       "[1, 2, 2, 3, 'k', 'h']"
      ]
     },
     "execution_count": 69,
     "metadata": {},
     "output_type": "execute_result"
    }
   ],
   "source": [
    "#popping last elememts\n",
    "p1=[1,2,2,3,\"k\",\"h\",2]\n",
    "p1.pop()\n",
    "p1\n",
    "\n"
   ]
  },
  {
   "cell_type": "code",
   "execution_count": 70,
   "id": "594c7d14",
   "metadata": {},
   "outputs": [
    {
     "name": "stdout",
     "output_type": "stream",
     "text": [
      "[112, 2, 3, 5, 52, 1, 4, 'kedar', 'hellow']\n"
     ]
    }
   ],
   "source": [
    "#appending a new elements\n",
    "p1=[112,2,3,5,52,1,4,\"kedar\"]\n",
    "p1.append('hellow')\n",
    "print(p1)"
   ]
  },
  {
   "cell_type": "code",
   "execution_count": 71,
   "id": "429ba066",
   "metadata": {},
   "outputs": [
    {
     "data": {
      "text/plain": [
       "['kedar', 4, 1, 52, 5, 3, 2, 112]"
      ]
     },
     "execution_count": 71,
     "metadata": {},
     "output_type": "execute_result"
    }
   ],
   "source": [
    "#reversing ellements\n",
    "p1=[112,2,3,5,52,1,4,\"kedar\"]\n",
    "p1.reverse()\n",
    "p1"
   ]
  },
  {
   "cell_type": "code",
   "execution_count": 72,
   "id": "4fa9a0e0",
   "metadata": {},
   "outputs": [
    {
     "data": {
      "text/plain": [
       "[112, 'hellow', 2, 3, 5, 52, 1, 4, 'kedar']"
      ]
     },
     "execution_count": 72,
     "metadata": {},
     "output_type": "execute_result"
    }
   ],
   "source": [
    "#inserting elements\n",
    "p1=[112,2,3,5,52,1,4,\"kedar\"]\n",
    "p1.insert(1,\"hellow\")\n",
    "p1"
   ]
  },
  {
   "cell_type": "code",
   "execution_count": 75,
   "id": "82de7a38",
   "metadata": {},
   "outputs": [
    {
     "data": {
      "text/plain": [
       "['apple', 'bannaa', 'cello', 'kedar', 'mango']"
      ]
     },
     "execution_count": 75,
     "metadata": {},
     "output_type": "execute_result"
    }
   ],
   "source": [
    "#sorting elemnts\n",
    "p1=['mango','bannaa','cello','apple',\"kedar\"]\n",
    "p1.sort()\n",
    "p1"
   ]
  },
  {
   "cell_type": "markdown",
   "id": "f151121e",
   "metadata": {},
   "source": [
    "### dictionary\n"
   ]
  },
  {
   "cell_type": "code",
   "execution_count": 77,
   "id": "afc0c6a0",
   "metadata": {},
   "outputs": [
    {
     "data": {
      "text/plain": [
       "dict_keys(['apple', 'orage', 'mango'])"
      ]
     },
     "execution_count": 77,
     "metadata": {},
     "output_type": "execute_result"
    }
   ],
   "source": [
    "#extracting key\n",
    "fruit ={\"apple\":10,\"orage\":20,\"mango\":40}\n",
    "fruit.keys()\n"
   ]
  },
  {
   "cell_type": "code",
   "execution_count": 78,
   "id": "891e6047",
   "metadata": {},
   "outputs": [
    {
     "data": {
      "text/plain": [
       "dict_values([10, 20, 40])"
      ]
     },
     "execution_count": 78,
     "metadata": {},
     "output_type": "execute_result"
    }
   ],
   "source": [
    "#extracting vLUES\n",
    "fruit ={\"apple\":10,\"orage\":20,\"mango\":40}\n",
    "fruit.values()"
   ]
  },
  {
   "cell_type": "code",
   "execution_count": 79,
   "id": "4656f4c5",
   "metadata": {},
   "outputs": [
    {
     "data": {
      "text/plain": [
       "{'apple': 10, 'orage': 20, 'mango': 40, 'guava': 50}"
      ]
     },
     "execution_count": 79,
     "metadata": {},
     "output_type": "execute_result"
    }
   ],
   "source": [
    "#adding\n",
    "fruit ={\"apple\":10,\"orage\":20,\"mango\":40}\n",
    "fruit[\"guava\"]=50\n",
    "fruit"
   ]
  },
  {
   "cell_type": "code",
   "execution_count": 80,
   "id": "6afb1e0f",
   "metadata": {},
   "outputs": [
    {
     "data": {
      "text/plain": [
       "{'apple': 10, 'orage': 20, 'guava': 40, 'banana': 60}"
      ]
     },
     "execution_count": 80,
     "metadata": {},
     "output_type": "execute_result"
    }
   ],
   "source": [
    "#update anad poping\n",
    "fruit ={\"apple\":10,\"orage\":20,}\n",
    "fruit1={\"guava\":40,\"banana\":60}\n",
    "fruit.update(fruit1)\n",
    "fruit\n"
   ]
  },
  {
   "cell_type": "markdown",
   "id": "8ab52c5b",
   "metadata": {},
   "source": [
    "## set"
   ]
  },
  {
   "cell_type": "code",
   "execution_count": 86,
   "id": "3719d38a",
   "metadata": {},
   "outputs": [
    {
     "data": {
      "text/plain": [
       "{1, 2, 3.21, 'abc', 'hellow'}"
      ]
     },
     "execution_count": 86,
     "metadata": {},
     "output_type": "execute_result"
    }
   ],
   "source": [
    "# update \n",
    "set1={1,2,3.21,\"hellow\"}\n",
    "set1.add(\"abc\")\n",
    "set1"
   ]
  },
  {
   "cell_type": "code",
   "execution_count": 90,
   "id": "abca78a0",
   "metadata": {},
   "outputs": [
    {
     "data": {
      "text/plain": [
       "{1, 2, 3.21}"
      ]
     },
     "execution_count": 90,
     "metadata": {},
     "output_type": "execute_result"
    }
   ],
   "source": [
    "##removing\n",
    "set1={1,2,3.21,\"hellow\"}\n",
    "set1.remove('hellow')\n",
    "set1"
   ]
  },
  {
   "cell_type": "code",
   "execution_count": 91,
   "id": "732dc9cf",
   "metadata": {},
   "outputs": [
    {
     "data": {
      "text/plain": [
       "{1, 2, 3, 3.21, 'hellow'}"
      ]
     },
     "execution_count": 91,
     "metadata": {},
     "output_type": "execute_result"
    }
   ],
   "source": [
    "#union of two set\n",
    "set1={1,2,3.21,\"hellow\"}\n",
    "set2={1,2,3}\n",
    "set1.union(set2)"
   ]
  },
  {
   "cell_type": "code",
   "execution_count": 92,
   "id": "4e8a84a3",
   "metadata": {},
   "outputs": [
    {
     "data": {
      "text/plain": [
       "{1, 2}"
      ]
     },
     "execution_count": 92,
     "metadata": {},
     "output_type": "execute_result"
    }
   ],
   "source": [
    "#INTERSAECTION \n",
    "set1={1,2,3.21,\"hellow\"}\n",
    "set2={1,2,3}\n",
    "set1.intersection(set2)"
   ]
  },
  {
   "cell_type": "code",
   "execution_count": null,
   "id": "075395ce",
   "metadata": {},
   "outputs": [],
   "source": []
  },
  {
   "cell_type": "code",
   "execution_count": null,
   "id": "58048277",
   "metadata": {},
   "outputs": [],
   "source": []
  }
 ],
 "metadata": {
  "kernelspec": {
   "display_name": "Python 3 (ipykernel)",
   "language": "python",
   "name": "python3"
  },
  "language_info": {
   "codemirror_mode": {
    "name": "ipython",
    "version": 3
   },
   "file_extension": ".py",
   "mimetype": "text/x-python",
   "name": "python",
   "nbconvert_exporter": "python",
   "pygments_lexer": "ipython3",
   "version": "3.9.7"
  }
 },
 "nbformat": 4,
 "nbformat_minor": 5
}
